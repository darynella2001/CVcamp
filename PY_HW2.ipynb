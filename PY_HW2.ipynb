{
 "cells": [
  {
   "cell_type": "code",
   "execution_count": 31,
   "id": "c73a4174",
   "metadata": {},
   "outputs": [],
   "source": [
    "from datetime import datetime, date"
   ]
  },
  {
   "cell_type": "code",
   "execution_count": 113,
   "id": "91755968",
   "metadata": {},
   "outputs": [],
   "source": [
    "class Om():\n",
    "    def __init__(self, nume, prenume, data_nasterii):\n",
    "        self.nume = nume\n",
    "        self.prenume = prenume\n",
    "        self.data_nasterii = data_nasterii\n",
    "        \n",
    "    def calculeaza_varsta(self):\n",
    "        self.data_nasterii = datetime.strptime(str(self.data_nasterii), \"%d/%m/%Y\").date()\n",
    "        today = date.today()\n",
    "        return today.year - self.data_nasterii.year-((today.month, today.day)<(self.data_nasterii.month, self.data_nasterii.day))\n",
    "                "
   ]
  },
  {
   "cell_type": "code",
   "execution_count": 114,
   "id": "46c83ccb",
   "metadata": {},
   "outputs": [],
   "source": [
    "class Elev(Om):\n",
    "    def __init__(self, clasa, nota_medie, nume, prenume, data_nasterii):\n",
    "        super().__init__(nume, prenume, data_nasterii)\n",
    "        self.clasa = clasa\n",
    "        self.nota_medie = nota_medie\n",
    "    \n",
    "    def eminent(self):\n",
    "        return self.nota_medie > 8"
   ]
  },
  {
   "cell_type": "code",
   "execution_count": 115,
   "id": "a082b430",
   "metadata": {},
   "outputs": [],
   "source": [
    "class Profesor(Om):\n",
    "    def __init__(self, discipline, salariu, nume, prenume, data_nasterii):\n",
    "        super().__init__(nume, prenume, data_nasterii)\n",
    "        self.discipline = discipline\n",
    "        self.salariu = salariu\n",
    "    \n",
    "    def salariu_anual(self):\n",
    "        return 12 * self.salariu\n",
    "    \n",
    "    def numar_discipline(self):\n",
    "        return len(self.discipline)"
   ]
  },
  {
   "cell_type": "code",
   "execution_count": 116,
   "id": "d42fec98",
   "metadata": {},
   "outputs": [],
   "source": [
    "elev1 = Elev(10, 9.15, 'Petrescu', 'Ion', '25/04/2006')\n",
    "elev2 = Elev(11, 8.75, 'Popescu', 'Ana', '10/11/2004')\n",
    "\n",
    "prof1 = Profesor(['Geometrie', 'Algebra'], 4500, 'Baciu', 'Alexandru', '03/12/1975')\n",
    "prof2 = Profesor(['Ed.Civica', 'Istoria Romanilor', 'Istoria Universala'], 5500, 'Lazar', 'Elena', '05/02/1982')"
   ]
  },
  {
   "cell_type": "code",
   "execution_count": 117,
   "id": "bc7e1704",
   "metadata": {},
   "outputs": [
    {
     "data": {
      "text/plain": [
       "16"
      ]
     },
     "execution_count": 117,
     "metadata": {},
     "output_type": "execute_result"
    }
   ],
   "source": [
    "#elev2 inca nu a implinit 17 ani chiar daca e nascut in 2004\n",
    "elev2.calculeaza_varsta()"
   ]
  },
  {
   "cell_type": "code",
   "execution_count": 118,
   "id": "2b298915",
   "metadata": {},
   "outputs": [
    {
     "data": {
      "text/plain": [
       "15"
      ]
     },
     "execution_count": 118,
     "metadata": {},
     "output_type": "execute_result"
    }
   ],
   "source": [
    "elev1.calculeaza_varsta()"
   ]
  },
  {
   "cell_type": "code",
   "execution_count": 119,
   "id": "4e450992",
   "metadata": {},
   "outputs": [
    {
     "name": "stdout",
     "output_type": "stream",
     "text": [
      "Petrescu Ion, elev in clasa a 10-a, este eminent\n",
      "Popescu Ana, este in clasa a 11-a\n"
     ]
    }
   ],
   "source": [
    "if elev1.eminent():\n",
    "    print(elev1.nume + \" \" + elev1.prenume + \", elev in clasa a \"+ str(elev1.clasa) + \"-a, este eminent\")\n",
    "else:\n",
    "    print(elev1.nume + \" \" + elev1.prenume + \", elev in clasa a \"+ str(elev1.clasa) + \"-a, nu este eminent\")\n",
    "    \n",
    "print(elev2.nume + \" \" + elev2.prenume + \", este in clasa a \" + str(elev2.clasa) + \"-a\")"
   ]
  },
  {
   "cell_type": "code",
   "execution_count": 120,
   "id": "d33184a3",
   "metadata": {},
   "outputs": [
    {
     "ename": "AttributeError",
     "evalue": "'Profesor' object has no attribute 'eminent'",
     "output_type": "error",
     "traceback": [
      "\u001b[1;31m---------------------------------------------------------------------------\u001b[0m",
      "\u001b[1;31mAttributeError\u001b[0m                            Traceback (most recent call last)",
      "\u001b[1;32m~\\AppData\\Local\\Temp/ipykernel_19524/4094410154.py\u001b[0m in \u001b[0;36m<module>\u001b[1;34m\u001b[0m\n\u001b[0;32m      1\u001b[0m \u001b[1;31m#eroare\u001b[0m\u001b[1;33m\u001b[0m\u001b[1;33m\u001b[0m\u001b[1;33m\u001b[0m\u001b[0m\n\u001b[1;32m----> 2\u001b[1;33m \u001b[0mprof1\u001b[0m\u001b[1;33m.\u001b[0m\u001b[0meminent\u001b[0m\u001b[1;33m(\u001b[0m\u001b[1;33m)\u001b[0m\u001b[1;33m\u001b[0m\u001b[1;33m\u001b[0m\u001b[0m\n\u001b[0m",
      "\u001b[1;31mAttributeError\u001b[0m: 'Profesor' object has no attribute 'eminent'"
     ]
    }
   ],
   "source": [
    "#eroare\n",
    "prof1.eminent()"
   ]
  },
  {
   "cell_type": "code",
   "execution_count": 121,
   "id": "5eb73967",
   "metadata": {},
   "outputs": [
    {
     "name": "stdout",
     "output_type": "stream",
     "text": [
      "Baciu Alexandru preda 2 discipline, iar salariu anual este de: 54000\n"
     ]
    }
   ],
   "source": [
    "print(prof1.nume + \" \" + prof1.prenume + \" preda \" + str(prof1.numar_discipline()) + \" discipline, iar salariu anual este de: \" + str(prof1.salariu_anual()))"
   ]
  },
  {
   "cell_type": "code",
   "execution_count": 122,
   "id": "b3586a1c",
   "metadata": {},
   "outputs": [
    {
     "name": "stdout",
     "output_type": "stream",
     "text": [
      "Lazar Elena are 39 ani si preda urmatoarele obiecte:\n",
      "Ed.Civica\n",
      "Istoria Romanilor\n",
      "Istoria Universala\n"
     ]
    }
   ],
   "source": [
    "print(prof2.nume + \" \" + prof2.prenume + \" are \" + str(prof2.calculeaza_varsta()) + \" ani si preda urmatoarele obiecte:\")\n",
    "for disciplina in prof2.discipline:\n",
    "    print(disciplina)"
   ]
  }
 ],
 "metadata": {
  "kernelspec": {
   "display_name": "Python 3 (ipykernel)",
   "language": "python",
   "name": "python3"
  },
  "language_info": {
   "codemirror_mode": {
    "name": "ipython",
    "version": 3
   },
   "file_extension": ".py",
   "mimetype": "text/x-python",
   "name": "python",
   "nbconvert_exporter": "python",
   "pygments_lexer": "ipython3",
   "version": "3.7.6"
  }
 },
 "nbformat": 4,
 "nbformat_minor": 5
}
