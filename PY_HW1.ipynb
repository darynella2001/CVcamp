{
 "cells": [
  {
   "cell_type": "code",
   "execution_count": 11,
   "id": "7553ba23",
   "metadata": {},
   "outputs": [
    {
     "name": "stdout",
     "output_type": "stream",
     "text": [
      "8\n"
     ]
    }
   ],
   "source": [
    "x = input()"
   ]
  },
  {
   "cell_type": "code",
   "execution_count": 15,
   "id": "50fea65d",
   "metadata": {},
   "outputs": [],
   "source": [
    "def nr_of_days(nr):\n",
    "    if nr == '1' or nr == '3' or nr == '5' or nr == '7' or nr == '8' or nr == '10' or nr == '12':\n",
    "        print(\"31\")\n",
    "    elif nr == '2':\n",
    "        print(\"28\")\n",
    "    else:\n",
    "        print(\"30\")"
   ]
  },
  {
   "cell_type": "code",
   "execution_count": 16,
   "id": "ca429864",
   "metadata": {},
   "outputs": [
    {
     "name": "stdout",
     "output_type": "stream",
     "text": [
      "31\n"
     ]
    }
   ],
   "source": [
    "nr_of_days(x)"
   ]
  },
  {
   "cell_type": "code",
   "execution_count": 23,
   "id": "d6d67f3f",
   "metadata": {},
   "outputs": [
    {
     "name": "stdout",
     "output_type": "stream",
     "text": [
      "2016\n",
      "2\n"
     ]
    }
   ],
   "source": [
    "year = input()\n",
    "x = input()"
   ]
  },
  {
   "cell_type": "code",
   "execution_count": 24,
   "id": "2ddf62e0",
   "metadata": {},
   "outputs": [
    {
     "name": "stdout",
     "output_type": "stream",
     "text": [
      "29\n"
     ]
    }
   ],
   "source": [
    "if int(year) % 4 == 0 and x == '2':\n",
    "    print(\"29\")\n",
    "else:\n",
    "    nr_of_days(x)"
   ]
  }
 ],
 "metadata": {
  "kernelspec": {
   "display_name": "Python 3 (ipykernel)",
   "language": "python",
   "name": "python3"
  },
  "language_info": {
   "codemirror_mode": {
    "name": "ipython",
    "version": 3
   },
   "file_extension": ".py",
   "mimetype": "text/x-python",
   "name": "python",
   "nbconvert_exporter": "python",
   "pygments_lexer": "ipython3",
   "version": "3.10.0"
  }
 },
 "nbformat": 4,
 "nbformat_minor": 5
}
